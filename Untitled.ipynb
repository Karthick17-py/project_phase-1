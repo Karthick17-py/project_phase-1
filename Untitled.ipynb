{
 "cells": [
  {
   "cell_type": "code",
   "execution_count": 1,
   "id": "59fe594d-a8ca-4fb2-a790-3d182e2b0587",
   "metadata": {
    "ExecuteTime": {
     "end_time": "2023-11-13T15:45:38.499952Z",
     "start_time": "2023-11-13T15:45:37.440036100Z"
    }
   },
   "outputs": [],
   "source": [
    "import cv2\n",
    "import os\n",
    "import time\n",
    "import uuid"
   ]
  },
  {
   "cell_type": "code",
   "execution_count": 2,
   "id": "ae825c7b-b935-4f8d-b7c0-e8c2a2adc415",
   "metadata": {
    "ExecuteTime": {
     "end_time": "2023-11-13T15:46:37.575179100Z",
     "start_time": "2023-11-13T15:46:37.543914300Z"
    }
   },
   "outputs": [],
   "source": [
    "IMAGES_PATH = 'Tensorflow/workspace/images/collectedimages'"
   ]
  },
  {
   "cell_type": "code",
   "execution_count": 3,
   "outputs": [],
   "source": [
    "labels = ['hello' , 'thanks' , 'yes' , 'no' , 'iloveyou']\n",
    "number_imgs = 15"
   ],
   "metadata": {
    "collapsed": false,
    "ExecuteTime": {
     "end_time": "2023-11-13T15:47:49.310108600Z",
     "start_time": "2023-11-13T15:47:49.278456400Z"
    }
   },
   "id": "e24e35ae1614e13a"
  },
  {
   "cell_type": "code",
   "execution_count": null,
   "outputs": [],
   "source": [
    "for label in labels:\n",
    "    !mkdir {'Tensorflow\\workspace\\images\\collectedimages\\\\'+label}\n",
    "    cap = cv2.VideoCapture (0)\n",
    "    print('Collecting images for {}'.format(label))\n",
    "    time.sleep(5)\n",
    "    for imgnum in range(number_imgs): ret, frame = cap.read()\n",
    "        imgname = os.path.join(IMAGES_PATH, label, label+ '.'+'{}.jpg'.format(str(uuid.uuid())))\n",
    "        cv2.imwrite(imgname, frame)\n",
    "        cv2.imshow('frame', frame)\n",
    "        time.sleep(2)\n",
    "        if cv2.waitKey(1) & 0xFF == ord('q'):\n",
    "            break\n",
    "    cap.release()\n",
    "    "
   ],
   "metadata": {
    "collapsed": false
   },
   "id": "ccb7e348e04bae4c"
  }
 ],
 "metadata": {
  "kernelspec": {
   "display_name": "Python 3 (ipykernel)",
   "language": "python",
   "name": "python3"
  },
  "language_info": {
   "codemirror_mode": {
    "name": "ipython",
    "version": 3
   },
   "file_extension": ".py",
   "mimetype": "text/x-python",
   "name": "python",
   "nbconvert_exporter": "python",
   "pygments_lexer": "ipython3",
   "version": "3.9.18"
  }
 },
 "nbformat": 4,
 "nbformat_minor": 5
}
